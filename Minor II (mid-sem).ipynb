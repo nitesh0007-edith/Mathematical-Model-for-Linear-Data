{
 "cells": [
  {
   "cell_type": "code",
   "execution_count": 18,
   "id": "liable-northern",
   "metadata": {},
   "outputs": [
    {
     "name": "stdout",
     "output_type": "stream",
     "text": [
      "Actual value of the dataset [94, 73, 59, 80, 93, 85, 66, 79, 77, 91]\n",
      "Predicted value of that dataset [84.15094339622642, 71.4339622641509, 68.25471698113202, 77.79245283018867, 80.97169811320755, 74.61320754716978, 80.97169811320755, 80.97169811320755, 87.33018867924531, 90.5094339622642]\n"
     ]
    },
    {
     "data": {
      "image/png": "[encoded data removed]",
      "text/plain": [
       "<Figure size 432x288 with 1 Axes>"
      ]
     },
     "metadata": {
      "needs_background": "light"
     },
     "output_type": "display_data"
    },
    {
     "name": "stdout",
     "output_type": "stream",
     "text": [
      "The Mean Square Error(cost function) is:  77.7537735849057\n"
     ]
    }
   ],
   "source": [
    "import numpy as np\n",
    "import matplotlib.pyplot as plt\n",
    "\n",
    "class Reg:\n",
    "    def __init__(self):\n",
    "        pass\n",
    "    def sum(l, p):\n",
    "        res = 0\n",
    "        for i in l:\n",
    "            res += i**p        \n",
    "        return res\n",
    "    def find_mul_sum(l1, l2):\n",
    "        res = 0\n",
    "        for i in range(len(l1)):\n",
    "            res += (l1[i]*l2[i])        \n",
    "        return res\n",
    "    def equation(sum_x, sum_x2, sum_y, sum_xy):\n",
    "        n = 10\n",
    "        p = np.array([[sum_x,n], [sum_x2,sum_x]])\n",
    "        q = np.array([sum_y, sum_xy])\n",
    "        res = np.linalg.solve(p, q)\n",
    "        return res\n",
    "    def predict(x, res):\n",
    "        y_pred = []\n",
    "        for i in x:\n",
    "            y_pred.append(res[0] * i + res[1])\n",
    "        return y_pred\n",
    "def main():\n",
    "    x = [17,13,12,15,16,14,16,16,18,19]\n",
    "    y = [94,73,59,80,93,85,66,79,77,91]\n",
    "    r = Reg\n",
    "    sum_x = r.sum(x, 1)\n",
    "    sum_y = r.sum(y, 1)\n",
    "    sum_x2 = r.sum(x, 2)\n",
    "    sum_xy = r.find_mul_sum(x, y)\n",
    "    res = []\n",
    "    res = r.equation(sum_x, sum_x2, sum_y, sum_xy)\n",
    "    y_pred = r.predict(x, res)    \n",
    "    print('Actual value of the dataset',y)\n",
    "    print('Predicted value of that dataset',y_pred)\n",
    "        \n",
    "    plt.scatter(x, y, color = 'green')\n",
    "    plt.plot(x, y_pred, color = 'red')\n",
    "    plt.xlabel('X')\n",
    "    plt.ylabel('Y')\n",
    "    plt.show()\n",
    "    # implementing the Cost Finction    \n",
    "    summ = 0  \n",
    "    n = len(y) \n",
    "    for i in range (0,n):  \n",
    "      diff = y[i] - y_pred[i]  \n",
    "      squared_diff = diff**2   \n",
    "      summ = summ + squared_diff  \n",
    "    MSE = summ/n  \n",
    "    print(\"The Mean Square Error(cost function) is: \" , MSE)\n",
    "if __name__ == \"__main__\":\n",
    "    main()\n"
   ]
  },
  {
   "cell_type": "code",
   "execution_count": null,
   "id": "musical-reserve",
   "metadata": {},
   "outputs": [],
   "source": []
  }
 ],
 "metadata": {
  "kernelspec": {
   "display_name": "Python 3",
   "language": "python",
   "name": "python3"
  },
  "language_info": {
   "codemirror_mode": {
    "name": "ipython",
    "version": 3
   },
   "file_extension": ".py",
   "mimetype": "text/x-python",
   "name": "python",
   "nbconvert_exporter": "python",
   "pygments_lexer": "ipython3",
   "version": "3.9.1"
  }
 },
 "nbformat": 4,
 "nbformat_minor": 5
}
