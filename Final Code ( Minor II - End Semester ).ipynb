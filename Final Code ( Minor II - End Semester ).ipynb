{
 "cells": [
  {
   "cell_type": "markdown",
   "id": "military-essex",
   "metadata": {},
   "source": [
    "# Mathematical Model For Linear Data\n",
    "\n",
    "<img src=\"https://regenerativetoday.com/wp-content/uploads/2019/06/GradientDescentWithMutlipleLocalMinimum.jpg\"\n",
    "     alt=\"Gradient Descent\"\n",
    "     style=\"float: left; margin-right: 10px;\" />\n",
    "\n",
    "---\n",
    "\n",
    "#### ABSTRACT\n",
    "\n",
    "Information is mounting significantly and hungry for knowledge. As data is expanding, the world is moving in chasing information with the assistance of analytics in this era of Big Data. The flooding of information arising out of different areas is named for automated learning techniques for data analysis, which is implied as Machine Learning (ML) or Artificial Intelligence (AI). Linear Regression is a statistical strategy for plotting the line and is used for predictive analysis. Gradient descent is the cycle that uses a cost function on gradients for limiting the complexity in computing mean square error. The above-mentioned methods are implemented in the project using python programming tools for analyzing the datasets.\n",
    "\n",
    "*Keywords: Machine Learning, Artificial Intelligence, Linear Regression, Predictive Analysis, Gradient descent, Cost Function*\n",
    "\n",
    "---\n",
    "\n",
    "#### PROBLEM STATEMENT\n",
    "\n",
    "To propose a “Mathematical Model for Linear Data” comparing the accuracy of the model with the existing linear fitting function.\n",
    "\n",
    "---\n",
    "\n",
    "#### Dataset: ***Communities and Crime Data Set***\n",
    "\n",
    "Communities within the United States. The data combines socio-economic data from the 1990 US Census, law enforcement data from the 1990 US LEMAS survey, and crime data from the 1995 FBI UCR.\n",
    "\n",
    "##### Overview of dataset:\n",
    "|Dataset Characteristics |No. of Instances | Area  |Attribute Characteristics|No. of Attributes|Date Donated|Missing value|\n",
    "|------------------------|-----------------|-------|-------------------------|-----------------|------------|-------------|\n",
    "|Multivariative          | 1994            |Social |Real                     |128              |13-07-2009  |Yes          |\n",
    "\n",
    "##### Sample Data\n",
    "\n",
    "| polulation(x)| ViolentCrimesPerPop(y)| \n",
    "|--------------|-----------------------|\n",
    "|0.19          |0.2                    |\n",
    "|0             |0.67                   |   \n",
    "|0             |0.43                   |   \n",
    "|0.04\t       |0.12                   |\n",
    "|0.01\t       |0.03                   |\n",
    "|0.02\t       |0.14                   |\n",
    "|0.01\t       |0.03                   |\n",
    "|0.01\t       |0.55                   |\n",
    "|0.03\t       |0.53                   |\n",
    "|0.01\t       |0.15                   |\n",
    "\n",
    "\n",
    "***Source of dataset: http://archive.ics.uci.edu/ml/datasets/communities+and+crime***\n",
    "\n",
    "**Creator:** Michael Redmond (redmond '@' lasalle.edu); Computer Science; La Salle University; Philadelphia, PA, 19141, USA\n",
    "-- culled from 1990 US Census, 1995 US FBI Uniform Crime Report, 1990 US Law Enforcement Management and Administrative Statistics Survey, available from ICPSR at U of Michigan.\n",
    "-- Donor: Michael Redmond (redmond '@' lasalle.edu); Computer Science; La Salle University; Philadelphia, PA, 19141, USA\n",
    "-- Date: July 2009 \n",
    "\n",
    "---\n",
    "\n",
    "### Submitted By :  \n",
    "|Name                     |Roll no    |Sap ID    |Branch          |\n",
    "|-------------------------|-----------|----------|----------------|\n",
    "|***Anupriya Uniyal***    |R133218033 |500071369 |Btech-CSE-BFSI  |\n",
    "|***Aman Kumar***         |R133218004 |500068007 |Btech-CSE-BFSI  |\n",
    "|***Nitesh Ranjan Singh***|R133218015 |500069480 |Btech-CSE-BFSI  |\n",
    "\n",
    "\n",
    "### Under the guidance of :\n",
    "#### Dr Amit Verma \n",
    "*Assistant Professor, SOCS*  \n",
    "*Department of Informatics*\n",
    "\n",
    "#### ***University of Petroleum and Energy studies***"
   ]
  },
  {
   "cell_type": "code",
   "execution_count": 51,
   "id": "express-merchandise",
   "metadata": {},
   "outputs": [
    {
     "name": "stdout",
     "output_type": "stream",
     "text": [
      "Actual value \n",
      " [0.12, 0.03, 0.14, 0.03, 0.55, 0.53, 0.15, 0.24, 0.08, 0.06, 0.09, 0.21, 0.3, 0.49, 0.07, 0.15, 0.21, 0.63, 0.31, 0.84, 0.1, 0.49, 0.16, 0.15, 0.31, 0.08, 0.11, 0.22, 0.13, 0.07, 0.11, 0.06, 0.22, 0.17, 0.16, 0.2, 0.11, 0.12]\n",
      "\n",
      "\n",
      "Predicted value \n",
      " [0.2210875331564986, 0.16618037135278507, 0.18448275862068958, 0.16618037135278507, 0.16618037135278507, 0.2027851458885941, 0.16618037135278507, 0.38580901856763916, 0.18448275862068958, 0.2027851458885941, 0.16618037135278507, 0.2210875331564986, 0.2027851458885941, 0.4224137931034482, 0.16618037135278507, 0.18448275862068958, 0.16618037135278507, 0.34920424403183015, 0.18448275862068958, 0.2576923076923076, 0.16618037135278507, 0.16618037135278507, 0.16618037135278507, 0.2210875331564986, 0.31259946949602113, 0.2027851458885941, 0.2027851458885941, 0.16618037135278507, 0.18448275862068958, 0.16618037135278507, 0.16618037135278507, 0.2576923076923076, 0.31259946949602113, 0.18448275862068958, 0.36750663129973465, 0.2027851458885941, 0.2210875331564986, 0.16618037135278507]\n",
      "\n",
      "\n",
      "------------------------------------------------------------\n",
      "|\tPerformance Measure of our Mathematical Model\t   |\n",
      "------------------------------------------------------------\n",
      "|  Mean Squared Error(Cost Function)\t\t | 0.02853 |\n",
      "------------------------------------------------------------\n",
      "|  Root Mean Squared Error is   \t\t | 0.16891 |\n",
      "------------------------------------------------------------\n",
      "|  Relative Squared Error            \t\t | 0.86025 |\n",
      "------------------------------------------------------------\n",
      "|  R-Squared \t\t\t\t\t | 0.13975 |\n",
      "------------------------------------------------------------\n"
     ]
    }
   ],
   "source": [
    "import numpy as np                                   #importing numpy library\n",
    "import pandas as pd                                  #importing pandas library\n",
    "\n",
    "\n",
    "class Reg:                                           # here we make Class Reg\n",
    "    \n",
    "    def __init__(self):\n",
    "        pass\n",
    "    def sum(l, power):                               # sum() return the sum of the list with power\n",
    "        res = 0\n",
    "        for i in l:\n",
    "            res += i**power        \n",
    "        return res\n",
    "    \n",
    "    def multiply_of_x_y(l1, l2):                     # multiply_of_x_y() return the summationof  multiplication of two list(x,y) \n",
    "        res = 0\n",
    "        for i in range(len(l1)):\n",
    "            res += (l1[i]*l2[i])        \n",
    "        return res\n",
    "    \n",
    "    def equation(sum_x, sum_x2, sum_y, sum_xy):      # euation() finds the coefficient of linear equation (slope and y-intercept)\n",
    "        n = 38\n",
    "        p = np.array([[sum_x,n], [sum_x2,sum_x]])    # Coefficient matrix\n",
    "        q = np.array([sum_y, sum_xy])                # Ordinate or “dependent variable” values\n",
    "        \n",
    "        # 'np.linalg.solve' used to Solve a linear matrix equation, or system of linear scalar equations\n",
    "        # Computes the “exact” solution, x, of the well-determined, i.e., full rank, linear matrix equation ax = b.\n",
    "        # and return 'Solution to the system a x = b. Returned shape is identical to b'\n",
    "        res = np.linalg.solve(p, q)                  \n",
    "        return res\n",
    "    \n",
    "    def predict(x, res):                            # predict() return the predicted value of y and store into y_pred[] list\n",
    "        y_pred = []\n",
    "        for i in x:\n",
    "            y_pred.append(res[0] * i + res[1])\n",
    "        return y_pred\n",
    "    \n",
    "def main():\n",
    "    x = [0.04,0.01,0.02,0.01,0.01,0.03,0.01,0.13,0.02,0.03,0.01,0.04,0.03,0.15,0.01,0.02,0.01,0.11,0.02,0.06,0.01,0.01,0.01,0.04,0.09,0.03,0.03,0.01,0.02,0.01,0.01,0.06,0.09,0.02,0.12,0.03,0.04,0.01]\n",
    "    y = [0.12,0.03,0.14,0.03,0.55,0.53,0.15,0.24,0.08,0.06,0.09,0.21,0.3,0.49,0.07,0.15,0.21,0.63,0.31,0.84,0.1,0.49,0.16,0.15,0.31,0.08,0.11,0.22,0.13,0.07,0.11,0.06,0.22,0.17,0.16,0.2,0.11,0.12]\n",
    "    \n",
    "    r = Reg                     #creates a new instance of the class 'Reg' and assigns this object to the local variable 'r'    \n",
    "    \n",
    "    sum_x = r.sum(x, 1)         # call the function sum with parameter x with power 1 and store into sum_x\n",
    "    sum_y = r.sum(y, 1)         # call the function sum with parameter y with power 1 and store into sum_y\n",
    "    sum_x2 = r.sum(x, 2)        # call the function sum with parameter x with power 2 and store into sum_x2\n",
    "    \n",
    "    sum_xy = r.multiply_of_x_y(x, y) # call the function multiply_of_x_y with parameter x and y\n",
    "    \n",
    "    result = []                      # make empty list 'result'\n",
    "    \n",
    "    result = r.equation(sum_x, sum_x2, sum_y, sum_xy)  # call the function equation()\n",
    "    \n",
    "    y_pred = r.predict(x, result)    # call the predict for Yhat_predicted\n",
    "    \n",
    "    print('Actual value \\n',y)       # print Actual value of y\n",
    "    print(\"\\n\")\n",
    "    print('Predicted value \\n',y_pred) # print predicted value of y\n",
    "        \n",
    "    \n",
    "    # Finding Mean Squared Error and Root Mean Sqaured Error   \n",
    "    summ = 0  \n",
    "    n = len(y) \n",
    "    for i in range (0,n):  \n",
    "      diff = y[i] - y_pred[i]  \n",
    "      squared_diff = diff**2   \n",
    "      summ = summ + squared_diff  \n",
    "    MSE = summ/n\n",
    "    \n",
    "    # finding Relative Squared Error and R-Squared\n",
    "    summ1 = 0\n",
    "    summ2 = 0\n",
    "    n = len(y)\n",
    "    def Ymean(y):\n",
    "        return sum(y) / len(y)\n",
    "    ymean = Ymean(y)\n",
    "    \n",
    "    for i in range (0,n):  \n",
    "      diff1 = y[i] - y_pred[i]\n",
    "      diff2 = y[i] - ymean\n",
    "      squared_diff1 = diff1**2\n",
    "      squared_diff2 = diff2**2\n",
    "      summ1 = summ1 + squared_diff1\n",
    "      summ2 = summ2 + squared_diff2\n",
    "    RSE = summ1/summ2\n",
    "    \n",
    "    print(\"\\n\")\n",
    "    print(\"------------------------------------------------------------\")\n",
    "    print(\"|\\tPerformance Measure of our Mathematical Model\\t   |\")\n",
    "    print(\"------------------------------------------------------------\")\n",
    "    print(\"|  Mean Squared Error(Cost Function)\\t\\t\",\"|\",round(MSE,5),\"|\")\n",
    "    print(\"------------------------------------------------------------\")\n",
    "    print(\"|  Root Mean Squared Error is   \\t\\t\", \"|\",round(MSE**0.5,5),\"|\")\n",
    "    print(\"------------------------------------------------------------\")\n",
    "    print(\"|  Relative Squared Error            \\t\\t\",\"|\",round(RSE,5),\"|\")\n",
    "    print(\"------------------------------------------------------------\")\n",
    "    print(\"|  R-Squared \\t\\t\\t\\t\\t\",\"|\",round(1-RSE,5),\"|\")\n",
    "    print(\"------------------------------------------------------------\")\n",
    "if __name__ == \"__main__\":\n",
    "    main()\n",
    "\n"
   ]
  },
  {
   "cell_type": "markdown",
   "id": "saved-marijuana",
   "metadata": {},
   "source": [
    "After Cleaning the Data we got MSE=0.02853 but our Goal is MSE=0.0160\n",
    "\n",
    "so we in our futher step we apply Gradient Descent Minimization Alorithms for Minimize the cost Function"
   ]
  },
  {
   "cell_type": "markdown",
   "id": "stupid-demographic",
   "metadata": {},
   "source": [
    "## Apply Gradient Descent Algorithms for Minimizing the Cost Function\n",
    "*Apply gradient descent until converengce*"
   ]
  },
  {
   "cell_type": "code",
   "execution_count": 78,
   "id": "difficult-station",
   "metadata": {},
   "outputs": [],
   "source": [
    "x = [0.04,0.01,0.02,0.01,0.01,0.03,0.01,0.13,0.02,0.03,0.01,0.04,0.03,0.15,0.01,0.02,0.01,0.11,0.02,0.06,0.01,0.01,0.01,0.04,0.09,0.03,0.03,0.01,0.02,0.01,0.01,0.06,0.09,0.02,0.12,0.03,0.04,0.01]\n",
    "y = [0.12,0.03,0.14,0.03,0.55,0.53,0.15,0.24,0.08,0.06,0.09,0.21,0.3,0.49,0.07,0.15,0.21,0.63,0.31,0.84,0.1,0.49,0.16,0.15,0.31,0.08,0.11,0.22,0.13,0.07,0.11,0.06,0.22,0.17,0.16,0.2,0.11,0.12]\n",
    "\n",
    "sample_size = len(x)   # finding the size of x variable\n",
    "\n",
    "def calculate_cost(q0,q1): # thsi Function return the \n",
    "    \n",
    "    q1x = np.dot(q1,x)                 # Dot product of two arrays\n",
    "    q1xq0 = np.add(q1x, q0)            # Add arguments element-wise\n",
    "    q1xq0_y = np.subtract(q1xq0, y)    # Subtract arguments, element-wise (here we calute updated error)\n",
    "    q1xq0_y_square = np.dot(q1xq0_y, q1xq0_y) # calculating the updated sqaured error\n",
    "    return np.sum(q1xq0_y_square) * (1.0/(2*sample_size))\n",
    "    \n",
    "\n",
    "def minimize(q0,q1, includeX=False):\n",
    "    q1x = np.dot(q1,x)                # Dot product of two arrays\n",
    "    q1xq0 = np.add(q1x, q0)           # Add arguments element-wise\n",
    "    q1xq0_y = np.subtract(q1xq0, y)   # Subtract arguments, element-wise\n",
    "    q1xq0_yx = q1xq0_y                \n",
    "    if includeX:\n",
    "        q1xq0_yx = np.dot(q1xq0_y, x) # Dot product of two arrays\n",
    "    res_matrix = np.sum(q1xq0_yx) * (1.0/sample_size)\n",
    "    return res_matrix\n",
    "\n",
    "\n",
    "def compute_and_show(alpha, iteration):\n",
    "\n",
    "    costs = []                         # making empty list 'costs=[]' where we collect the cost\n",
    "    q0 = 0                             # initialy   q0(y-intercept) = 0\n",
    "    q1 = 0                             # intiatialy q1(slope) = 0\n",
    "    for idx in range(iteration):       # run the loop no of iteration times\n",
    "        q0 = q0 - (alpha * minimize(q0,q1))        #finding new q0(y-intercept) using gradient descent (Partial derivative formula for q0)\n",
    "        q1 = q1 - (alpha * minimize(q0,q1,True))   # findind new q1(slope) using gradient descent (Partial derivative formula for q1)\n",
    "        cost = calculate_cost(q0, q1)              \n",
    "        costs.append(cost)\n",
    "\n",
    "    new_df = pd.DataFrame(costs)\n",
    "    new_df.plot()\n",
    "    print ('q0 {0}, q1 {1}'.format(q0, q1))"
   ]
  },
  {
   "cell_type": "markdown",
   "id": "powered-recipe",
   "metadata": {},
   "source": [
    "# ****Our Goal for MSE(Cost Function)=0.0160****\n",
    "\n",
    "### ***Attempt 1st*** \n",
    "#### ***A very small learning rate (α = 0.001)***\n",
    "**After 2000 minimization, the cost not reached to our Goal (around 0.020)**"
   ]
  },
  {
   "cell_type": "code",
   "execution_count": 79,
   "id": "improving-ability",
   "metadata": {},
   "outputs": [
    {
     "name": "stdout",
     "output_type": "stream",
     "text": [
      "q0 0.18633227409614428, q1 0.011952553210254594\n"
     ]
    },
    {
     "data": {
      "image/png": "[encoded data removed]",
      "text/plain": [
       "<Figure size 432x288 with 1 Axes>"
      ]
     },
     "metadata": {
      "needs_background": "light"
     },
     "output_type": "display_data"
    }
   ],
   "source": [
    "compute_and_show(0.001, 2000)               # call the function compute_and_show(learning rate, no. of iteration) "
   ]
  },
  {
   "cell_type": "markdown",
   "id": "harmful-wellington",
   "metadata": {},
   "source": [
    "### ***Attempt 2nd*** \n",
    "#### ***A very High learning rate (α = 5)***\n",
    "**After 2000 minimization, the cost shoots up after 250 attempts**"
   ]
  },
  {
   "cell_type": "code",
   "execution_count": 80,
   "id": "cultural-pendant",
   "metadata": {},
   "outputs": [
    {
     "name": "stderr",
     "output_type": "stream",
     "text": [
      "c:\\users\\dell\\appdata\\local\\programs\\python\\python39\\lib\\site-packages\\numpy\\core\\fromnumeric.py:87: RuntimeWarning: overflow encountered in reduce\n",
      "  return ufunc.reduce(obj, axis, dtype, out, **passkwargs)\n",
      "<ipython-input-78-3973eca79561>:9: RuntimeWarning: invalid value encountered in add\n",
      "  q1xq0 = np.add(q1x, q0)\n",
      "<ipython-input-78-3973eca79561>:17: RuntimeWarning: invalid value encountered in add\n",
      "  q1xq0 = np.add(q1x, q0)           # Add arguments element-wise\n"
     ]
    },
    {
     "name": "stdout",
     "output_type": "stream",
     "text": [
      "q0 nan, q1 nan\n"
     ]
    },
    {
     "data": {
      "image/png": "[encoded data removed]",
      "text/plain": [
       "<Figure size 432x288 with 1 Axes>"
      ]
     },
     "metadata": {
      "needs_background": "light"
     },
     "output_type": "display_data"
    }
   ],
   "source": [
    "compute_and_show(5, 2000)"
   ]
  },
  {
   "cell_type": "markdown",
   "id": "applicable-trademark",
   "metadata": {},
   "source": [
    "### ***Attempt 3rd***\n",
    "#### ***A good learning rate (α = 0.12)***\n",
    "Gradient descent is converged after 100-150 attempts. but can be improved"
   ]
  },
  {
   "cell_type": "code",
   "execution_count": 81,
   "id": "subtle-waterproof",
   "metadata": {},
   "outputs": [
    {
     "name": "stdout",
     "output_type": "stream",
     "text": [
      "q0 0.19649674038817982, q1 0.521756892438034\n"
     ]
    },
    {
     "data": {
      "image/png": "[encoded data removed]",
      "text/plain": [
       "<Figure size 432x288 with 1 Axes>"
      ]
     },
     "metadata": {
      "needs_background": "light"
     },
     "output_type": "display_data"
    }
   ],
   "source": [
    "compute_and_show(0.12, 2000)"
   ]
  },
  {
   "cell_type": "markdown",
   "id": "canadian-ordering",
   "metadata": {},
   "source": [
    "### ***Attempt 4th***\n",
    "***A good learning rate (α = 0.5)***\n",
    "\n",
    "Gradient descent is converged after 100-150 attempts. but can be improved"
   ]
  },
  {
   "cell_type": "code",
   "execution_count": 82,
   "id": "antique-stewart",
   "metadata": {},
   "outputs": [
    {
     "name": "stdout",
     "output_type": "stream",
     "text": [
      "q0 0.16489384515180008, q1 1.3722893537018366\n"
     ]
    },
    {
     "data": {
      "image/png": "[encoded data removed]",
      "text/plain": [
       "<Figure size 432x288 with 1 Axes>"
      ]
     },
     "metadata": {
      "needs_background": "light"
     },
     "output_type": "display_data"
    }
   ],
   "source": [
    "compute_and_show(0.5, 2000)"
   ]
  },
  {
   "cell_type": "markdown",
   "id": "excess-relative",
   "metadata": {},
   "source": [
    "### ***Attempt 5th***\n",
    "***A good learning rate (α = 1)***\n",
    "\n",
    "Gradient descent is converged after 500 attempts.\n",
    "\n",
    "***here we reached our Goal. Cost Function(MSE) is less than 0.0160***"
   ]
  },
  {
   "cell_type": "code",
   "execution_count": 83,
   "id": "further-wrist",
   "metadata": {},
   "outputs": [
    {
     "name": "stdout",
     "output_type": "stream",
     "text": [
      "q0 0.1521420448143877, q1 1.715479792978122\n"
     ]
    },
    {
     "data": {
      "image/png": "[encoded data removed]",
      "text/plain": [
       "<Figure size 432x288 with 1 Axes>"
      ]
     },
     "metadata": {
      "needs_background": "light"
     },
     "output_type": "display_data"
    }
   ],
   "source": [
    "compute_and_show(1, 2000)"
   ]
  },
  {
   "cell_type": "markdown",
   "id": "advisory-coast",
   "metadata": {},
   "source": [
    "### Conclusion"
   ]
  },
  {
   "cell_type": "markdown",
   "id": "czech-convention",
   "metadata": {},
   "source": []
  },
  {
   "cell_type": "code",
   "execution_count": null,
   "id": "approved-transportation",
   "metadata": {},
   "outputs": [],
   "source": []
  },
  {
   "cell_type": "code",
   "execution_count": null,
   "id": "laden-stretch",
   "metadata": {},
   "outputs": [],
   "source": []
  },
  {
   "cell_type": "code",
   "execution_count": null,
   "id": "dominican-continent",
   "metadata": {},
   "outputs": [],
   "source": []
  }
 ],
 "metadata": {
  "kernelspec": {
   "display_name": "Python 3",
   "language": "python",
   "name": "python3"
  },
  "language_info": {
   "codemirror_mode": {
    "name": "ipython",
    "version": 3
   },
   "file_extension": ".py",
   "mimetype": "text/x-python",
   "name": "python",
   "nbconvert_exporter": "python",
   "pygments_lexer": "ipython3",
   "version": "3.9.1"
  }
 },
 "nbformat": 4,
 "nbformat_minor": 5
}
